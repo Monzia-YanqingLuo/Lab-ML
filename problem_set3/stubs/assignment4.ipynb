{
 "cells": [
  {
   "cell_type": "code",
   "execution_count": null,
   "metadata": {},
   "outputs": [],
   "source": [
    "import ps3_implementation"
   ]
  },
  {
   "cell_type": "markdown",
   "metadata": {},
   "source": [
    "## Load data"
   ]
  },
  {
   "cell_type": "code",
   "execution_count": 4,
   "metadata": {},
   "outputs": [
    {
     "name": "stdout",
     "output_type": "stream",
     "text": [
      "Key: __header__\n",
      "\n",
      "Key: __version__\n",
      "\n",
      "Key: __globals__\n",
      "\n",
      "Key: X\n",
      "\n",
      "Key: R\n",
      "\n",
      "Key: Z\n",
      "\n",
      "Key: T\n",
      "\n",
      "Key: P\n",
      "\n"
     ]
    }
   ],
   "source": [
    "import scipy.io\n",
    "mat = scipy.io.loadmat('/Users/yanqingluo/Desktop/LabML/git/problem_set3/data/qm7.mat')\n",
    "for key, value in mat.items():\n",
    "    print(f'Key: {key}')\n",
    "    print() "
   ]
  },
  {
   "cell_type": "code",
   "execution_count": null,
   "metadata": {},
   "outputs": [],
   "source": []
  }
 ],
 "metadata": {
  "kernelspec": {
   "display_name": "base",
   "language": "python",
   "name": "python3"
  },
  "language_info": {
   "codemirror_mode": {
    "name": "ipython",
    "version": 3
   },
   "file_extension": ".py",
   "mimetype": "text/x-python",
   "name": "python",
   "nbconvert_exporter": "python",
   "pygments_lexer": "ipython3",
   "version": "3.10.10"
  }
 },
 "nbformat": 4,
 "nbformat_minor": 2
}
